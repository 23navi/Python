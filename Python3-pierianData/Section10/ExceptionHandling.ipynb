{
 "cells": [
  {
   "cell_type": "code",
   "execution_count": 6,
   "id": "6af7bd52",
   "metadata": {},
   "outputs": [
    {
     "name": "stdout",
     "output_type": "stream",
     "text": [
      "Enter a number5\n",
      "Finally ran\n",
      "1\n"
     ]
    }
   ],
   "source": [
    "def takeUserInput():\n",
    "    while True:\n",
    "        try:\n",
    "            val= int(input(\"Enter a number\"))\n",
    "        except:\n",
    "            print(\"Oops wrong number\")\n",
    "            continue\n",
    "        else:\n",
    "            break\n",
    "            return val\n",
    "        finally:\n",
    "            print(\"Finally ran\")\n",
    "    return 1\n",
    "print(takeUserInput())"
   ]
  },
  {
   "cell_type": "code",
   "execution_count": null,
   "id": "4ac8f176",
   "metadata": {},
   "outputs": [],
   "source": []
  }
 ],
 "metadata": {
  "kernelspec": {
   "display_name": "Python 3 (ipykernel)",
   "language": "python",
   "name": "python3"
  },
  "language_info": {
   "codemirror_mode": {
    "name": "ipython",
    "version": 3
   },
   "file_extension": ".py",
   "mimetype": "text/x-python",
   "name": "python",
   "nbconvert_exporter": "python",
   "pygments_lexer": "ipython3",
   "version": "3.9.7"
  }
 },
 "nbformat": 4,
 "nbformat_minor": 5
}
