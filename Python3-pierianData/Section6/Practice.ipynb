{
 "cells": [
  {
   "cell_type": "code",
   "execution_count": 5,
   "id": "8f9abebb",
   "metadata": {},
   "outputs": [
    {
     "name": "stdout",
     "output_type": "stream",
     "text": [
      "50\n"
     ]
    }
   ],
   "source": [
    "x=50\n",
    "def aa():\n",
    "    print(x)\n",
    "    \n",
    "    \n",
    "aa() "
   ]
  },
  {
   "cell_type": "code",
   "execution_count": 6,
   "id": "3f651346",
   "metadata": {},
   "outputs": [],
   "source": [
    "#nested global variable"
   ]
  },
  {
   "cell_type": "code",
   "execution_count": 8,
   "id": "5133d31b",
   "metadata": {},
   "outputs": [
    {
     "name": "stdout",
     "output_type": "stream",
     "text": [
      "100\n"
     ]
    }
   ],
   "source": [
    "x=50\n",
    "def a():\n",
    "    x=100\n",
    "    def b():\n",
    "        global x\n",
    "        x=200\n",
    "    b()\n",
    "    print(x)\n",
    "a()\n",
    "# print(x)"
   ]
  },
  {
   "cell_type": "code",
   "execution_count": 9,
   "id": "0960c896",
   "metadata": {},
   "outputs": [
    {
     "name": "stdout",
     "output_type": "stream",
     "text": [
      "50\n"
     ]
    }
   ],
   "source": [
    "## when x is not defined in global scope\n",
    "\n",
    "def a():\n",
    "    global x\n",
    "    x=50\n",
    "a()\n",
    "print(x)"
   ]
  },
  {
   "cell_type": "code",
   "execution_count": 11,
   "id": "745b9f2b",
   "metadata": {},
   "outputs": [
    {
     "name": "stdout",
     "output_type": "stream",
     "text": [
      "[3, 4, 6, 7, 8, 9]\n"
     ]
    }
   ],
   "source": [
    "def myfunc(*args):\n",
    "    print(list(args))\n",
    "myfunc(3,4,6,7,8,9)"
   ]
  },
  {
   "cell_type": "code",
   "execution_count": null,
   "id": "acfdaef8",
   "metadata": {},
   "outputs": [],
   "source": []
  }
 ],
 "metadata": {
  "kernelspec": {
   "display_name": "Python 3 (ipykernel)",
   "language": "python",
   "name": "python3"
  },
  "language_info": {
   "codemirror_mode": {
    "name": "ipython",
    "version": 3
   },
   "file_extension": ".py",
   "mimetype": "text/x-python",
   "name": "python",
   "nbconvert_exporter": "python",
   "pygments_lexer": "ipython3",
   "version": "3.9.7"
  }
 },
 "nbformat": 4,
 "nbformat_minor": 5
}
