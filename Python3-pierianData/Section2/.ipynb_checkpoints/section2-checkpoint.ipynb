{
 "cells": [
  {
   "cell_type": "code",
   "execution_count": null,
   "id": "41eab5fa",
   "metadata": {},
   "outputs": [],
   "source": [
    "# single line comment\n",
    "'''\n",
    "\n",
    "'''\n",
    "\n",
    "#or \n",
    "\n",
    "\"\"\"\n",
    "\n",
    "\"\"\"\n",
    "\n",
    "#for multiline comment... Note: It is just a string which is not assigned to a variable to python will ignore it \n",
    "# and we can use this as comment\n",
    "\n",
    "# comment shortcut in mac -> cmd+/\n"
   ]
  }
 ],
 "metadata": {
  "kernelspec": {
   "display_name": "Python 3 (ipykernel)",
   "language": "python",
   "name": "python3"
  },
  "language_info": {
   "codemirror_mode": {
    "name": "ipython",
    "version": 3
   },
   "file_extension": ".py",
   "mimetype": "text/x-python",
   "name": "python",
   "nbconvert_exporter": "python",
   "pygments_lexer": "ipython3",
   "version": "3.9.7"
  }
 },
 "nbformat": 4,
 "nbformat_minor": 5
}
