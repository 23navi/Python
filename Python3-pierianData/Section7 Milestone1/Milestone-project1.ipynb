{
 "cells": [
  {
   "cell_type": "code",
   "execution_count": 1,
   "id": "0f377a06",
   "metadata": {},
   "outputs": [],
   "source": [
    "#python tic-tac-toe game for two player\n",
    "from random import randint\n",
    "win_states=[[0,1,2],[3,4,5],[6,7,8],[1,3,6],[2,4,7],[3,5,8],[0,4,8],[2,4,6]]\n",
    "\n"
   ]
  },
  {
   "cell_type": "code",
   "execution_count": 2,
   "id": "c42e0f23",
   "metadata": {},
   "outputs": [],
   "source": [
    "#display board function\n",
    "def display_board():\n",
    "    board=f\" {states[0]} | {states[1]} | {states[2]}\\n-----------\\n {states[3]} | {states[4]} | {states[5]}\\n-----------\\n {states[6]} | {states[7]} | {states[8]}\"\n",
    "    print(board)\n"
   ]
  },
  {
   "cell_type": "code",
   "execution_count": 3,
   "id": "30b37a2f",
   "metadata": {},
   "outputs": [],
   "source": [
    "#user input and validation\n",
    "\n",
    "def userInput(player):\n",
    "    inRange=False\n",
    "    isNumber=False\n",
    "    while not inRange or not isNumber:\n",
    "        print(f\"Enter your move {player}\")\n",
    "        if player==first_player:\n",
    "            move= input(\"Enter position number to mark it as X: \")\n",
    "        else:\n",
    "            move= input(\"Enter position number to mark it as O: \")\n",
    "        \n",
    "        \n",
    "        if not move.isdigit():\n",
    "            print(f\"Oops! Please enter a valid number {move} is not a number\\n\")\n",
    "            display_board()\n",
    "        elif (int(move)>9 or int(move)<1):\n",
    "            print(f\"Oops! Please enter a valid location to mark your move\\n\")\n",
    "            display_board()\n",
    "        elif int(move) in (played_indexs):\n",
    "            print(f\"Oops! You can't mark that position. Try other location\\n\")\n",
    "            display_board()\n",
    "        else:\n",
    "            return int(move)\n",
    "        "
   ]
  },
  {
   "cell_type": "code",
   "execution_count": 4,
   "id": "c495b730",
   "metadata": {},
   "outputs": [],
   "source": [
    "# subroutine for player1\n",
    "\n",
    "def subroutine(player):\n",
    "    symbol=\"O\"\n",
    "    if player==first_player:\n",
    "        symbol=\"X\"\n",
    "\n",
    "    move=userInput(player)\n",
    "    played_indexs.append(move)\n",
    "    states[move-1]=symbol\n",
    "\n",
    "    win=False\n",
    "    for i in win_states:\n",
    "        if states[i[0]]==symbol and states[i[1]]==symbol and states[i[2]]==symbol:\n",
    "            win=True\n",
    "            break\n",
    "    if win:\n",
    "        print(f\"{player} won!\")\n",
    "        return 0\n",
    "        \n",
    "    return 1\n"
   ]
  },
  {
   "cell_type": "code",
   "execution_count": null,
   "id": "e2888879",
   "metadata": {},
   "outputs": [],
   "source": []
  },
  {
   "cell_type": "code",
   "execution_count": 5,
   "id": "f701a05a",
   "metadata": {},
   "outputs": [
    {
     "name": "stdout",
     "output_type": "stream",
     "text": [
      "Welcome to the tic-tac-toe game.\n",
      "aarav will go first as 'X' and navi will play as 'O'\n",
      " 1 | 2 | 3\n",
      "-----------\n",
      " 4 | 5 | 6\n",
      "-----------\n",
      " 7 | 8 | 9\n",
      "Enter your move aarav\n",
      "Enter position number to mark it as X: 1\n",
      "1\n",
      " X | 2 | 3\n",
      "-----------\n",
      " 4 | 5 | 6\n",
      "-----------\n",
      " 7 | 8 | 9\n",
      "Enter your move navi\n",
      "Enter position number to mark it as O: 3\n",
      "1\n",
      " X | 2 | O\n",
      "-----------\n",
      " 4 | 5 | 6\n",
      "-----------\n",
      " 7 | 8 | 9\n",
      "Enter your move aarav\n",
      "Enter position number to mark it as X: 5\n",
      "1\n",
      " X | 2 | O\n",
      "-----------\n",
      " 4 | X | 6\n",
      "-----------\n",
      " 7 | 8 | 9\n",
      "Enter your move navi\n",
      "Enter position number to mark it as O: 6\n",
      "1\n",
      " X | 2 | O\n",
      "-----------\n",
      " 4 | X | O\n",
      "-----------\n",
      " 7 | 8 | 9\n",
      "Enter your move aarav\n",
      "Enter position number to mark it as X: 9\n",
      "aarav won!\n",
      "0\n"
     ]
    }
   ],
   "source": [
    "states=[\"1\",\"2\",\"3\",\"4\",\"5\",\"6\",\"7\",\"8\",\"9\"]\n",
    "\n",
    "played_indexs=[] # add the locations which are already marked by either player.\n",
    "\n",
    "player1= input(\"Enter the name of the first player: \")\n",
    "player2 =input(\"Enter the name of the second player: \")\n",
    "# player1=\"navi\"\n",
    "# player2=\"aarav\"\n",
    "\n",
    "first_player,second_player= (player1,player2) if randint(0,1)==0 else (player2,player1)\n",
    "\n",
    "print(f\"Welcome to the tic-tac-toe game.\\n{first_player} will go first as 'X' and {second_player} will play as 'O'\")\n",
    "\n",
    "count=0\n",
    "isRunning=1\n",
    "while isRunning==1:\n",
    "    print(\"\\n\")\n",
    "    display_board()\n",
    "    \n",
    "    if count%2==0:\n",
    "        isRunning=subroutine(first_player)\n",
    "        count+=1\n",
    "    else:\n",
    "        isRunning=subroutine(second_player)\n",
    "        count+=1\n",
    "\n",
    "    \n",
    "    \n",
    "    "
   ]
  },
  {
   "cell_type": "code",
   "execution_count": null,
   "id": "a61735d6",
   "metadata": {},
   "outputs": [],
   "source": []
  }
 ],
 "metadata": {
  "kernelspec": {
   "display_name": "Python 3 (ipykernel)",
   "language": "python",
   "name": "python3"
  },
  "language_info": {
   "codemirror_mode": {
    "name": "ipython",
    "version": 3
   },
   "file_extension": ".py",
   "mimetype": "text/x-python",
   "name": "python",
   "nbconvert_exporter": "python",
   "pygments_lexer": "ipython3",
   "version": "3.9.7"
  }
 },
 "nbformat": 4,
 "nbformat_minor": 5
}
