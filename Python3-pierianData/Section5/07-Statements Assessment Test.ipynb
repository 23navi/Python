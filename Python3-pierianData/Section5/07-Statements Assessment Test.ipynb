{
 "cells": [
  {
   "cell_type": "markdown",
   "metadata": {},
   "source": [
    "___\n",
    "\n",
    "<a href='https://www.udemy.com/user/joseportilla/'><img src='../Pierian_Data_Logo.png'/></a>\n",
    "___\n",
    "<center><em>Content Copyright by Pierian Data</em></center>"
   ]
  },
  {
   "cell_type": "markdown",
   "metadata": {
    "collapsed": true
   },
   "source": [
    "# Statements Assessment Test\n",
    "Let's test your knowledge!"
   ]
  },
  {
   "cell_type": "markdown",
   "metadata": {},
   "source": [
    "_____\n",
    "**Use <code>for</code>, .split(), and <code>if</code> to create a Statement that will print out words that start with 's':**"
   ]
  },
  {
   "cell_type": "code",
   "execution_count": 2,
   "metadata": {},
   "outputs": [],
   "source": [
    "st = 'Print only the words that start with s in this sentence'"
   ]
  },
  {
   "cell_type": "code",
   "execution_count": 3,
   "metadata": {},
   "outputs": [
    {
     "name": "stdout",
     "output_type": "stream",
     "text": [
      "start\n",
      "s\n",
      "sentence\n"
     ]
    }
   ],
   "source": [
    "#Code here\n",
    "for word in list(st.split(\" \")):\n",
    "    if(word[0]==\"s\"):\n",
    "        print(word)"
   ]
  },
  {
   "cell_type": "markdown",
   "metadata": {},
   "source": [
    "______\n",
    "**Use range() to print all the even numbers from 0 to 10.**"
   ]
  },
  {
   "cell_type": "code",
   "execution_count": 4,
   "metadata": {},
   "outputs": [
    {
     "name": "stdout",
     "output_type": "stream",
     "text": [
      "0\n",
      "2\n",
      "4\n",
      "6\n",
      "8\n"
     ]
    }
   ],
   "source": [
    "#Code Here\n",
    "for i in range(0,10,2):\n",
    "    print(i)"
   ]
  },
  {
   "cell_type": "markdown",
   "metadata": {},
   "source": [
    "___\n",
    "**Use a List Comprehension to create a list of all numbers between 1 and 50 that are divisible by 3.**"
   ]
  },
  {
   "cell_type": "code",
   "execution_count": 5,
   "metadata": {},
   "outputs": [
    {
     "data": {
      "text/plain": [
       "[3, 6, 9, 12, 15, 18, 21, 24, 27, 30, 33, 36, 39, 42, 45, 48]"
      ]
     },
     "execution_count": 5,
     "metadata": {},
     "output_type": "execute_result"
    }
   ],
   "source": [
    "#Code in this cell\n",
    "[num for num in range(1,50) if num%3==0]"
   ]
  },
  {
   "cell_type": "markdown",
   "metadata": {},
   "source": [
    "_____\n",
    "**Go through the string below and if the length of a word is even print \"even!\"**"
   ]
  },
  {
   "cell_type": "code",
   "execution_count": 6,
   "metadata": {},
   "outputs": [],
   "source": [
    "st = 'Print every word in this sentence that has an even number of letters'"
   ]
  },
  {
   "cell_type": "code",
   "execution_count": 7,
   "metadata": {},
   "outputs": [
    {
     "name": "stdout",
     "output_type": "stream",
     "text": [
      "word\n",
      "in\n",
      "this\n",
      "sentence\n",
      "that\n",
      "an\n",
      "even\n",
      "number\n",
      "of\n"
     ]
    }
   ],
   "source": [
    "#Code in this cell\n",
    "for word in st.split(\" \"):\n",
    "    if(len(word)%2==0):\n",
    "        print(word)"
   ]
  },
  {
   "cell_type": "markdown",
   "metadata": {},
   "source": [
    "____\n",
    "**Write a program that prints the integers from 1 to 100. But for multiples of three print \"Fizz\" instead of the number, and for the multiples of five print \"Buzz\". For numbers which are multiples of both three and five print \"FizzBuzz\".**"
   ]
  },
  {
   "cell_type": "code",
   "execution_count": 9,
   "metadata": {},
   "outputs": [
    {
     "name": "stdout",
     "output_type": "stream",
     "text": [
      "1\n",
      "2\n",
      "fizz\n",
      "4\n",
      "Buzz\n",
      "fizz\n",
      "7\n",
      "8\n",
      "fizz\n",
      "Buzz\n",
      "11\n",
      "fizz\n",
      "13\n",
      "14\n",
      "fizzBuzz\n",
      "16\n",
      "17\n",
      "fizz\n",
      "19\n",
      "Buzz\n",
      "fizz\n",
      "22\n",
      "23\n",
      "fizz\n",
      "Buzz\n",
      "26\n",
      "fizz\n",
      "28\n",
      "29\n",
      "fizzBuzz\n",
      "31\n",
      "32\n",
      "fizz\n",
      "34\n",
      "Buzz\n",
      "fizz\n",
      "37\n",
      "38\n",
      "fizz\n",
      "Buzz\n",
      "41\n",
      "fizz\n",
      "43\n",
      "44\n",
      "fizzBuzz\n",
      "46\n",
      "47\n",
      "fizz\n",
      "49\n",
      "Buzz\n",
      "fizz\n",
      "52\n",
      "53\n",
      "fizz\n",
      "Buzz\n",
      "56\n",
      "fizz\n",
      "58\n",
      "59\n",
      "fizzBuzz\n",
      "61\n",
      "62\n",
      "fizz\n",
      "64\n",
      "Buzz\n",
      "fizz\n",
      "67\n",
      "68\n",
      "fizz\n",
      "Buzz\n",
      "71\n",
      "fizz\n",
      "73\n",
      "74\n",
      "fizzBuzz\n",
      "76\n",
      "77\n",
      "fizz\n",
      "79\n",
      "Buzz\n",
      "fizz\n",
      "82\n",
      "83\n",
      "fizz\n",
      "Buzz\n",
      "86\n",
      "fizz\n",
      "88\n",
      "89\n",
      "fizzBuzz\n",
      "91\n",
      "92\n",
      "fizz\n",
      "94\n",
      "Buzz\n",
      "fizz\n",
      "97\n",
      "98\n",
      "fizz\n",
      "Buzz\n"
     ]
    }
   ],
   "source": [
    "#Code in this cell\n",
    "for i in range(1,101):\n",
    "    val=\"\"\n",
    "    if(i%3==0):\n",
    "        val+=\"fizz\"\n",
    "    if(i%5==0):\n",
    "        val+=\"Buzz\"\n",
    "    if(val==\"\"):\n",
    "        val=i\n",
    "    print (val)"
   ]
  },
  {
   "cell_type": "markdown",
   "metadata": {},
   "source": [
    "____\n",
    "**Use List Comprehension to create a list of the first letters of every word in the string below:**"
   ]
  },
  {
   "cell_type": "code",
   "execution_count": 10,
   "metadata": {},
   "outputs": [],
   "source": [
    "st = 'Create a list of the first letters of every word in this string'"
   ]
  },
  {
   "cell_type": "code",
   "execution_count": 11,
   "metadata": {},
   "outputs": [
    {
     "data": {
      "text/plain": [
       "['C', 'a', 'l', 'o', 't', 'f', 'l', 'o', 'e', 'w', 'i', 't', 's']"
      ]
     },
     "execution_count": 11,
     "metadata": {},
     "output_type": "execute_result"
    }
   ],
   "source": [
    "#Code in this cell\n",
    "[word[0] for word in st.split(\" \")]"
   ]
  },
  {
   "cell_type": "markdown",
   "metadata": {},
   "source": [
    "### Great Job!"
   ]
  }
 ],
 "metadata": {
  "kernelspec": {
   "display_name": "Python 3 (ipykernel)",
   "language": "python",
   "name": "python3"
  },
  "language_info": {
   "codemirror_mode": {
    "name": "ipython",
    "version": 3
   },
   "file_extension": ".py",
   "mimetype": "text/x-python",
   "name": "python",
   "nbconvert_exporter": "python",
   "pygments_lexer": "ipython3",
   "version": "3.9.7"
  }
 },
 "nbformat": 4,
 "nbformat_minor": 1
}
