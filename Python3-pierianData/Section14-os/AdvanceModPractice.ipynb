{
 "cells": [
  {
   "cell_type": "code",
   "execution_count": 1,
   "id": "e88b6be1",
   "metadata": {},
   "outputs": [],
   "source": [
    "import os\n"
   ]
  },
  {
   "cell_type": "code",
   "execution_count": 2,
   "id": "daae199f",
   "metadata": {},
   "outputs": [
    {
     "data": {
      "text/plain": [
       "'/Users/navi/Desktop/Python/Python-github/Python3-pierianData/Section14-os'"
      ]
     },
     "execution_count": 2,
     "metadata": {},
     "output_type": "execute_result"
    }
   ],
   "source": [
    "os.getcwd()"
   ]
  },
  {
   "cell_type": "code",
   "execution_count": 3,
   "id": "ce0c75b7",
   "metadata": {},
   "outputs": [
    {
     "data": {
      "text/plain": [
       "['Example_Top_Level',\n",
       " '.DS_Store',\n",
       " '08-Advanced-Python-Module-Exercise',\n",
       " 'Untitled.ipynb',\n",
       " '.ipynb_checkpoints']"
      ]
     },
     "execution_count": 3,
     "metadata": {},
     "output_type": "execute_result"
    }
   ],
   "source": [
    "os.listdir()"
   ]
  },
  {
   "cell_type": "code",
   "execution_count": 5,
   "id": "b4b93fd3",
   "metadata": {},
   "outputs": [
    {
     "data": {
      "text/plain": [
       "['.localized', 'navi', 'Shared']"
      ]
     },
     "execution_count": 5,
     "metadata": {},
     "output_type": "execute_result"
    }
   ],
   "source": [
    "os.listdir(\"/Users\")"
   ]
  },
  {
   "cell_type": "code",
   "execution_count": 9,
   "id": "36eaa7c4",
   "metadata": {},
   "outputs": [
    {
     "name": "stdout",
     "output_type": "stream",
     "text": [
      "Currently looking into folder : /Users/navi/Desktop/Python/Python-github/Python3-pierianData/Section14-os\n",
      "\n",
      "Subfolder: Example_Top_Level\n",
      "Subfolder: 08-Advanced-Python-Module-Exercise\n",
      "Subfolder: .ipynb_checkpoints\n",
      "\n",
      "\n",
      "File: .DS_Store\n",
      "File: Untitled.ipynb\n",
      "\n",
      "\n",
      "Currently looking into folder : /Users/navi/Desktop/Python/Python-github/Python3-pierianData/Section14-os/Example_Top_Level\n",
      "\n",
      "Subfolder: Mid-Example-One\n",
      "\n",
      "\n",
      "File: .DS_Store\n",
      "File: Mid-Example.txt\n",
      "\n",
      "\n",
      "Currently looking into folder : /Users/navi/Desktop/Python/Python-github/Python3-pierianData/Section14-os/Example_Top_Level/Mid-Example-One\n",
      "\n",
      "Subfolder: Bottom-Level-Two\n",
      "Subfolder: Bottom-Level-One\n",
      "\n",
      "\n",
      "File: .DS_Store\n",
      "File: Mid-Level-Doc.txt\n",
      "\n",
      "\n",
      "Currently looking into folder : /Users/navi/Desktop/Python/Python-github/Python3-pierianData/Section14-os/Example_Top_Level/Mid-Example-One/Bottom-Level-Two\n",
      "\n",
      "\n",
      "\n",
      "File: Bottom-Text-Two.txt\n",
      "\n",
      "\n",
      "Currently looking into folder : /Users/navi/Desktop/Python/Python-github/Python3-pierianData/Section14-os/Example_Top_Level/Mid-Example-One/Bottom-Level-One\n",
      "\n",
      "\n",
      "\n",
      "File: One_Text.txt\n",
      "\n",
      "\n",
      "Currently looking into folder : /Users/navi/Desktop/Python/Python-github/Python3-pierianData/Section14-os/08-Advanced-Python-Module-Exercise\n",
      "\n",
      "Subfolder: extracted_content\n",
      "\n",
      "\n",
      "File: .DS_Store\n",
      "File: 07-Advanced-Modules-Exercise-Puzzle.ipynb\n",
      "File: 08-Advanced-Modules-Exercise-Solutions.ipynb\n",
      "File: unzip_me_for_instructions.zip\n",
      "\n",
      "\n",
      "Currently looking into folder : /Users/navi/Desktop/Python/Python-github/Python3-pierianData/Section14-os/08-Advanced-Python-Module-Exercise/extracted_content\n",
      "\n",
      "Subfolder: Three\n",
      "Subfolder: One\n",
      "Subfolder: Two\n",
      "Subfolder: Five\n",
      "Subfolder: Four\n",
      "\n",
      "\n",
      "File: Instructions.txt\n",
      "\n",
      "\n",
      "Currently looking into folder : /Users/navi/Desktop/Python/Python-github/Python3-pierianData/Section14-os/08-Advanced-Python-Module-Exercise/extracted_content/Three\n",
      "\n",
      "\n",
      "\n",
      "File: VSXFSTABZDY.txt\n",
      "File: YDQFMWXOUMW.txt\n",
      "File: YQBIUHSUEVW.txt\n",
      "File: XAJMCPEWFNI.txt\n",
      "File: ZXEZRQXZNPG.txt\n",
      "File: ZKQJXAYKPVD.txt\n",
      "File: XVMPVSVYKFR.txt\n",
      "File: XHZPVUQTXIO.txt\n",
      "File: YYIZGBTQHZP.txt\n",
      "File: VCFJCGJFBIH.txt\n",
      "File: VVHFVZUNLOO.txt\n",
      "File: VVKGWLRMHLU.txt\n",
      "File: XJCWENFFGHB.txt\n",
      "File: XFHJOTNPEJG.txt\n",
      "File: ZOWVXWPOGWP.txt\n",
      "File: ZXIBJMPROKW.txt\n",
      "File: VAQIJTDOFUJ.txt\n",
      "File: YCESZHJDBXH.txt\n",
      "File: YQRNCMNFFHW.txt\n",
      "File: ZEZKKRBIZEB.txt\n",
      "\n",
      "\n",
      "Currently looking into folder : /Users/navi/Desktop/Python/Python-github/Python3-pierianData/Section14-os/08-Advanced-Python-Module-Exercise/extracted_content/One\n",
      "\n",
      "\n",
      "\n",
      "File: LFEATJAAYDC.txt\n",
      "File: KCXGNQCZBLO.txt\n",
      "File: KFIUZFERLET.txt\n",
      "File: LIFDHOFKWOI.txt\n",
      "File: HRQFTHKVJTL.txt\n",
      "File: PLYCGPVEAWO.txt\n",
      "File: JEHBLZPUPSP.txt\n",
      "File: PDJMSMNKIRM.txt\n",
      "File: LPNDVDXPZIG.txt\n",
      "File: HMNZTLIFGPD.txt\n",
      "File: KNBSKDREHQU.txt\n",
      "File: KTXDHIOKAUI.txt\n",
      "File: JQUOBKFUACN.txt\n",
      "File: HFUTPPAXDIS.txt\n",
      "File: PTOBBCJYURJ.txt\n",
      "File: LHODFIKVTQA.txt\n",
      "File: JLTXKIGCWDL.txt\n",
      "File: HDOHZHFSTTK.txt\n",
      "File: KMMLGJOWLGI.txt\n",
      "File: JDLRVFCXYLU.txt\n",
      "File: PHWAVPEKAER.txt\n",
      "File: LDGOCUQJNNS.txt\n",
      "File: JTHSNBNPQSE.txt\n",
      "File: HVUTZEVMSBW.txt\n",
      "File: PQNVCVJINAR.txt\n",
      "\n",
      "\n",
      "Currently looking into folder : /Users/navi/Desktop/Python/Python-github/Python3-pierianData/Section14-os/08-Advanced-Python-Module-Exercise/extracted_content/Two\n",
      "\n",
      "\n",
      "\n",
      "File: HEORIXOTANT.txt\n",
      "File: SOFUJYXTIMK.txt\n",
      "File: HMZXPBOPRAE.txt\n",
      "File: OMWIMVRCMYM.txt\n",
      "File: OHZOUOSFJQC.txt\n",
      "File: OKWFOOYTXFU.txt\n",
      "File: LVMBINRBJXL.txt\n",
      "File: LSQSTGPIGIY.txt\n",
      "File: OIHMLGMWTHL.txt\n",
      "File: GQTJJORZBXY.txt\n",
      "File: HARDNJGDRBC.txt\n",
      "File: OYMAGXAGWHJ.txt\n",
      "File: HMUTDOVNYTV.txt\n",
      "File: LYZEQCVYNEZ.txt\n",
      "File: GMMQQUBMJNR.txt\n",
      "File: GTOTCIWMDBY.txt\n",
      "File: LULTNYAQEJG.txt\n",
      "File: HTOHSTYXTCO.txt\n",
      "File: SJMJLDGPBSJ.txt\n",
      "File: LCJZYDHBFRM.txt\n",
      "File: SPDZYGDHEWO.txt\n",
      "File: SIKFPPLCJDN.txt\n",
      "File: GXYSEPAFRTP.txt\n",
      "File: SWOFXREEHWA.txt\n",
      "File: GKQBQRCTNNK.txt\n",
      "\n",
      "\n",
      "Currently looking into folder : /Users/navi/Desktop/Python/Python-github/Python3-pierianData/Section14-os/08-Advanced-Python-Module-Exercise/extracted_content/Five\n",
      "\n",
      "\n",
      "\n",
      "File: ESIZWBHMGDP.txt\n",
      "File: BUGKBZWRRVI.txt\n",
      "File: ARLKFCWIAJE.txt\n",
      "File: EYTCGIOYWIW.txt\n",
      "File: APJKSRITGGX.txt\n",
      "File: AXJGVPVEFAS.txt\n",
      "File: CSCLFZCDYYC.txt\n",
      "File: CAHBEVSVDDN.txt\n",
      "File: BVBURZZCAPR.txt\n",
      "File: ETCUEXWNBCF.txt\n",
      "File: CRFSDGYFSHA.txt\n",
      "File: DYOPIIVMZOO.txt\n",
      "File: DDLASODUVPX.txt\n",
      "File: CXBVCTRBBIE.txt\n",
      "File: COMGMZBJAYE.txt\n",
      "File: EAAOEPSAWMQ.txt\n",
      "File: DZUWWXYIAEL.txt\n",
      "File: EIPWXMQZJKU.txt\n",
      "File: DHZBAAYEADM.txt\n",
      "File: BSKJDRNEZQM.txt\n",
      "File: AQKATDFGXTS.txt\n",
      "File: BTYWAHLHKBM.txt\n",
      "File: AEITMYIRQLP.txt\n",
      "File: BNUQEHCFRTG.txt\n",
      "File: DQPZQLBCJYP.txt\n",
      "\n",
      "\n",
      "Currently looking into folder : /Users/navi/Desktop/Python/Python-github/Python3-pierianData/Section14-os/08-Advanced-Python-Module-Exercise/extracted_content/Four\n",
      "\n",
      "\n",
      "\n",
      "File: WHTOHQUWXIN.txt\n",
      "File: QDDETWBHJYC.txt\n",
      "File: WNJISWPEBRS.txt\n",
      "File: WFSKPTXPFCH.txt\n",
      "File: EMTGPSXQEJX.txt\n",
      "File: TWUOYFCCYBQ.txt\n",
      "File: QTDYYIFPHAU.txt\n",
      "File: TAKNAVDMZKV.txt\n",
      "File: RYNXFYXMKHG.txt\n",
      "File: ROICPTWKXDX.txt\n",
      "File: QCWCFLKNZMN.txt\n",
      "File: EXVQSVBQQQH.txt\n",
      "File: THPNEGKTJWI.txt\n",
      "File: TJFMLJODVAD.txt\n",
      "File: QCTCKDIBBVG.txt\n",
      "File: TKCZSFQNJTX.txt\n",
      "File: WXDJDOGZEHN.txt\n",
      "File: QVNJULGXNUM.txt\n",
      "File: RSXOTNGKBML.txt\n",
      "File: EPRNUHRSESC.txt\n",
      "File: ECIOBYCDVFI.txt\n",
      "File: RXDARIDGKBF.txt\n",
      "File: REAXWSOIQDY.txt\n",
      "File: WYDLGSGGXKV.txt\n",
      "File: ESDIZXHYCVY.txt\n",
      "\n",
      "\n",
      "Currently looking into folder : /Users/navi/Desktop/Python/Python-github/Python3-pierianData/Section14-os/.ipynb_checkpoints\n",
      "\n",
      "\n",
      "\n",
      "File: Untitled-checkpoint.ipynb\n",
      "\n",
      "\n"
     ]
    }
   ],
   "source": [
    "for folder , sub_folders, files in os.walk(os.getcwd()):\n",
    "    print(f\"Currently looking into folder : {folder}\\n\")\n",
    "    for s in sub_folders:\n",
    "        print(f\"Subfolder: {s}\")\n",
    "    print(\"\\n\")\n",
    "    for f in files:\n",
    "        print(f\"File: {f}\")\n",
    "    print(\"\\n\")\n"
   ]
  },
  {
   "cell_type": "code",
   "execution_count": null,
   "id": "6d780a22",
   "metadata": {},
   "outputs": [],
   "source": []
  },
  {
   "cell_type": "code",
   "execution_count": null,
   "id": "e73b2a18",
   "metadata": {},
   "outputs": [],
   "source": []
  },
  {
   "cell_type": "code",
   "execution_count": 13,
   "id": "55067d66",
   "metadata": {},
   "outputs": [],
   "source": [
    "import datetime"
   ]
  },
  {
   "cell_type": "code",
   "execution_count": 27,
   "id": "bd79ceea",
   "metadata": {},
   "outputs": [
    {
     "ename": "TypeError",
     "evalue": "unsupported operand type(s) for -: 'datetime.time' and 'datetime.time'",
     "output_type": "error",
     "traceback": [
      "\u001b[0;31m---------------------------------------------------------------------------\u001b[0m",
      "\u001b[0;31mTypeError\u001b[0m                                 Traceback (most recent call last)",
      "Input \u001b[0;32mIn [27]\u001b[0m, in \u001b[0;36m<cell line: 3>\u001b[0;34m()\u001b[0m\n\u001b[1;32m      1\u001b[0m time1\u001b[38;5;241m=\u001b[39mdatetime\u001b[38;5;241m.\u001b[39mtime(\u001b[38;5;241m10\u001b[39m,\u001b[38;5;241m10\u001b[39m)\n\u001b[1;32m      2\u001b[0m time2\u001b[38;5;241m=\u001b[39mdatetime\u001b[38;5;241m.\u001b[39mtime(\u001b[38;5;241m10\u001b[39m,\u001b[38;5;241m11\u001b[39m)\n\u001b[0;32m----> 3\u001b[0m \u001b[38;5;28mprint\u001b[39m(\u001b[43mtime2\u001b[49m\u001b[38;5;241;43m-\u001b[39;49m\u001b[43mtime1\u001b[49m)\n",
      "\u001b[0;31mTypeError\u001b[0m: unsupported operand type(s) for -: 'datetime.time' and 'datetime.time'"
     ]
    }
   ],
   "source": [
    "time1=datetime.time(10,10)\n",
    "time2=datetime.time(10,11)\n",
    "print(time2-time1)"
   ]
  },
  {
   "cell_type": "code",
   "execution_count": 29,
   "id": "39b0f305",
   "metadata": {},
   "outputs": [
    {
     "ename": "ValueError",
     "evalue": "month must be in 1..12",
     "output_type": "error",
     "traceback": [
      "\u001b[0;31m---------------------------------------------------------------------------\u001b[0m",
      "\u001b[0;31mValueError\u001b[0m                                Traceback (most recent call last)",
      "Input \u001b[0;32mIn [29]\u001b[0m, in \u001b[0;36m<cell line: 2>\u001b[0;34m()\u001b[0m\n\u001b[1;32m      1\u001b[0m time1\u001b[38;5;241m=\u001b[39mdatetime\u001b[38;5;241m.\u001b[39mdate(\u001b[38;5;241m2020\u001b[39m,\u001b[38;5;241m10\u001b[39m,\u001b[38;5;241m10\u001b[39m)\n\u001b[0;32m----> 2\u001b[0m time2\u001b[38;5;241m=\u001b[39m\u001b[43mdatetime\u001b[49m\u001b[38;5;241;43m.\u001b[39;49m\u001b[43mdate\u001b[49m\u001b[43m(\u001b[49m\u001b[38;5;241;43m2020\u001b[39;49m\u001b[43m,\u001b[49m\u001b[38;5;241;43m16\u001b[39;49m\u001b[43m,\u001b[49m\u001b[38;5;241;43m11\u001b[39;49m\u001b[43m)\u001b[49m\n\u001b[1;32m      3\u001b[0m \u001b[38;5;28mprint\u001b[39m(time2\u001b[38;5;241m-\u001b[39mtime1)\n",
      "\u001b[0;31mValueError\u001b[0m: month must be in 1..12"
     ]
    }
   ],
   "source": [
    "time1=datetime.date(2020,10,10)\n",
    "time2=datetime.date(2020,16,11)\n",
    "print(time2-time1)"
   ]
  },
  {
   "cell_type": "code",
   "execution_count": 31,
   "id": "62f83312",
   "metadata": {},
   "outputs": [],
   "source": [
    "from datetime import datetime "
   ]
  },
  {
   "cell_type": "code",
   "execution_count": 34,
   "id": "4a0b1438",
   "metadata": {},
   "outputs": [],
   "source": [
    "d1=datetime(2019,11,23,12,53,53)\n",
    "d2=datetime(2013,6,23,11,32,53)"
   ]
  },
  {
   "cell_type": "code",
   "execution_count": 42,
   "id": "1cdb5b5f",
   "metadata": {},
   "outputs": [
    {
     "ename": "AttributeError",
     "evalue": "'datetime.timedelta' object has no attribute 'hours'",
     "output_type": "error",
     "traceback": [
      "\u001b[0;31m---------------------------------------------------------------------------\u001b[0m",
      "\u001b[0;31mAttributeError\u001b[0m                            Traceback (most recent call last)",
      "Input \u001b[0;32mIn [42]\u001b[0m, in \u001b[0;36m<cell line: 1>\u001b[0;34m()\u001b[0m\n\u001b[0;32m----> 1\u001b[0m \u001b[43m(\u001b[49m\u001b[43md1\u001b[49m\u001b[38;5;241;43m-\u001b[39;49m\u001b[43md2\u001b[49m\u001b[43m)\u001b[49m\u001b[38;5;241;43m.\u001b[39;49m\u001b[43mhours\u001b[49m\n",
      "\u001b[0;31mAttributeError\u001b[0m: 'datetime.timedelta' object has no attribute 'hours'"
     ]
    }
   ],
   "source": [
    "(d1-d2).hours"
   ]
  },
  {
   "cell_type": "code",
   "execution_count": 45,
   "id": "525551b7",
   "metadata": {},
   "outputs": [
    {
     "name": "stdout",
     "output_type": "stream",
     "text": [
      "74\n"
     ]
    }
   ],
   "source": [
    "import random\n",
    "random.seed(101)\n",
    "print(random.randint(0,100))"
   ]
  },
  {
   "cell_type": "code",
   "execution_count": 54,
   "id": "b993ccbb",
   "metadata": {},
   "outputs": [
    {
     "data": {
      "text/plain": [
       "0.048520987208713895"
      ]
     },
     "execution_count": 54,
     "metadata": {},
     "output_type": "execute_result"
    }
   ],
   "source": [
    "random.random()"
   ]
  },
  {
   "cell_type": "code",
   "execution_count": null,
   "id": "1fd178eb",
   "metadata": {},
   "outputs": [],
   "source": [
    "\n"
   ]
  },
  {
   "cell_type": "code",
   "execution_count": null,
   "id": "c211c78f",
   "metadata": {},
   "outputs": [],
   "source": []
  },
  {
   "cell_type": "code",
   "execution_count": null,
   "id": "9e72198f",
   "metadata": {},
   "outputs": [],
   "source": []
  },
  {
   "cell_type": "code",
   "execution_count": 55,
   "id": "ac277bbf",
   "metadata": {},
   "outputs": [],
   "source": [
    "import time\n"
   ]
  },
  {
   "cell_type": "code",
   "execution_count": 56,
   "id": "732f2a6f",
   "metadata": {},
   "outputs": [],
   "source": [
    "#start of code"
   ]
  },
  {
   "cell_type": "code",
   "execution_count": 57,
   "id": "8e28eb8c",
   "metadata": {},
   "outputs": [],
   "source": [
    "start_time=time.time()"
   ]
  },
  {
   "cell_type": "code",
   "execution_count": 58,
   "id": "5d34a6cf",
   "metadata": {},
   "outputs": [
    {
     "name": "stdout",
     "output_type": "stream",
     "text": [
      "1670078091.087081\n"
     ]
    }
   ],
   "source": [
    "print(start_time)"
   ]
  },
  {
   "cell_type": "code",
   "execution_count": null,
   "id": "436cc499",
   "metadata": {},
   "outputs": [],
   "source": []
  }
 ],
 "metadata": {
  "kernelspec": {
   "display_name": "Python 3 (ipykernel)",
   "language": "python",
   "name": "python3"
  },
  "language_info": {
   "codemirror_mode": {
    "name": "ipython",
    "version": 3
   },
   "file_extension": ".py",
   "mimetype": "text/x-python",
   "name": "python",
   "nbconvert_exporter": "python",
   "pygments_lexer": "ipython3",
   "version": "3.9.7"
  }
 },
 "nbformat": 4,
 "nbformat_minor": 5
}
