{
 "cells": [
  {
   "cell_type": "markdown",
   "metadata": {},
   "source": [
    "___\n",
    "\n",
    "<a href='https://www.udemy.com/user/joseportilla/'><img src='../Pierian_Data_Logo.png'/></a>\n",
    "___\n",
    "<center><em>Content Copyright by Pierian Data</em></center>"
   ]
  },
  {
   "cell_type": "markdown",
   "metadata": {},
   "source": [
    "# Web Scraping Exercises \n",
    "\n",
    "## Complete the Tasks Below"
   ]
  },
  {
   "cell_type": "markdown",
   "metadata": {},
   "source": [
    "**TASK: Import any libraries you think you'll need to scrape a website.**"
   ]
  },
  {
   "cell_type": "code",
   "execution_count": 5,
   "metadata": {},
   "outputs": [],
   "source": [
    "# CODE HERE\n",
    "import bs4\n",
    "import requests"
   ]
  },
  {
   "cell_type": "code",
   "execution_count": null,
   "metadata": {},
   "outputs": [],
   "source": []
  },
  {
   "cell_type": "markdown",
   "metadata": {},
   "source": [
    "**TASK: Use requests library and BeautifulSoup to connect to http://quotes.toscrape.com/ and get the HMTL text from the homepage.**"
   ]
  },
  {
   "cell_type": "code",
   "execution_count": null,
   "metadata": {},
   "outputs": [],
   "source": []
  },
  {
   "cell_type": "code",
   "execution_count": null,
   "metadata": {},
   "outputs": [],
   "source": []
  },
  {
   "cell_type": "code",
   "execution_count": 10,
   "metadata": {},
   "outputs": [
    {
     "name": "stdout",
     "output_type": "stream",
     "text": [
      "Albert Einstein\n",
      "J.K. Rowling\n",
      "Albert Einstein\n",
      "Jane Austen\n",
      "Marilyn Monroe\n",
      "Albert Einstein\n",
      "André Gide\n",
      "Thomas A. Edison\n",
      "Eleanor Roosevelt\n",
      "Steve Martin\n",
      "\n",
      "newLine\n",
      "\n",
      "Marilyn Monroe\n",
      "J.K. Rowling\n",
      "Albert Einstein\n",
      "Bob Marley\n",
      "Dr. Seuss\n",
      "Douglas Adams\n",
      "Elie Wiesel\n",
      "Friedrich Nietzsche\n",
      "Mark Twain\n",
      "Allen Saunders\n",
      "\n",
      "newLine\n",
      "\n",
      "Pablo Neruda\n",
      "Ralph Waldo Emerson\n",
      "Mother Teresa\n",
      "Garrison Keillor\n",
      "Jim Henson\n",
      "Dr. Seuss\n",
      "Albert Einstein\n",
      "J.K. Rowling\n",
      "Albert Einstein\n",
      "Bob Marley\n",
      "\n",
      "newLine\n",
      "\n",
      "Dr. Seuss\n",
      "J.K. Rowling\n",
      "Bob Marley\n",
      "Mother Teresa\n",
      "J.K. Rowling\n",
      "Charles M. Schulz\n",
      "William Nicholson\n",
      "Albert Einstein\n",
      "Jorge Luis Borges\n",
      "George Eliot\n",
      "\n",
      "newLine\n",
      "\n",
      "George R.R. Martin\n",
      "C.S. Lewis\n",
      "Marilyn Monroe\n",
      "Marilyn Monroe\n",
      "Albert Einstein\n",
      "Marilyn Monroe\n",
      "Marilyn Monroe\n",
      "Martin Luther King Jr.\n",
      "J.K. Rowling\n",
      "James Baldwin\n",
      "\n",
      "newLine\n",
      "\n",
      "Jane Austen\n",
      "Eleanor Roosevelt\n",
      "Marilyn Monroe\n",
      "Albert Einstein\n",
      "Haruki Murakami\n",
      "Alexandre Dumas fils\n",
      "Stephenie Meyer\n",
      "Ernest Hemingway\n",
      "Helen Keller\n",
      "George Bernard Shaw\n",
      "\n",
      "newLine\n",
      "\n",
      "Charles Bukowski\n",
      "Suzanne Collins\n",
      "Suzanne Collins\n",
      "C.S. Lewis\n",
      "J.R.R. Tolkien\n",
      "J.K. Rowling\n",
      "Ernest Hemingway\n",
      "Ralph Waldo Emerson\n",
      "Mark Twain\n",
      "Dr. Seuss\n",
      "\n",
      "newLine\n",
      "\n",
      "Alfred Tennyson\n",
      "Charles Bukowski\n",
      "Terry Pratchett\n",
      "Dr. Seuss\n",
      "J.D. Salinger\n",
      "George Carlin\n",
      "John Lennon\n",
      "W.C. Fields\n",
      "Ayn Rand\n",
      "Mark Twain\n",
      "\n",
      "newLine\n",
      "\n",
      "Albert Einstein\n",
      "Jane Austen\n",
      "J.K. Rowling\n",
      "Jane Austen\n",
      "Jane Austen\n",
      "C.S. Lewis\n",
      "C.S. Lewis\n",
      "Mark Twain\n",
      "Mark Twain\n",
      "C.S. Lewis\n",
      "\n",
      "newLine\n",
      "\n",
      "J.K. Rowling\n",
      "Jimi Hendrix\n",
      "J.M. Barrie\n",
      "E.E. Cummings\n",
      "Khaled Hosseini\n",
      "Harper Lee\n",
      "Madeleine L'Engle\n",
      "Mark Twain\n",
      "Dr. Seuss\n",
      "George R.R. Martin\n",
      "\n",
      "newLine\n",
      "\n"
     ]
    }
   ],
   "source": [
    "\n",
    "setOfAuthor=set()\n",
    "for i in range(1,11):\n",
    "    a=0\n",
    "    try:\n",
    "        baseUrl=f\"https://quotes.toscrape.com/page/{i}/\"\n",
    "        result= requests.get(baseUrl,\"lxml\")\n",
    "        soup= bs4.BeautifulSoup(result.text)\n",
    "        while True:\n",
    "            aut=soup.select(\".author\")[a].text\n",
    "            setOfAuthor.add(aut)\n",
    "            print(aut)\n",
    "            a+=1\n",
    "    except:\n",
    "        a=0\n",
    "        print(\"\\nnewLine\\n\")\n",
    "        \n",
    "    \n",
    "            \n",
    "            \n",
    "            \n",
    "        \n",
    "        \n",
    "    "
   ]
  },
  {
   "cell_type": "markdown",
   "metadata": {},
   "source": [
    "**TASK: Get the names of all the authors on the first page.**"
   ]
  },
  {
   "cell_type": "code",
   "execution_count": 11,
   "metadata": {},
   "outputs": [
    {
     "name": "stdout",
     "output_type": "stream",
     "text": [
      "{'Thomas A. Edison', 'Elie Wiesel', 'Stephenie Meyer', 'Douglas Adams', 'Alfred Tennyson', 'Albert Einstein', 'Pablo Neruda', 'Helen Keller', 'J.D. Salinger', 'William Nicholson', 'C.S. Lewis', 'Haruki Murakami', 'Jim Henson', 'J.K. Rowling', 'Jimi Hendrix', 'Harper Lee', 'Bob Marley', 'André Gide', 'Charles Bukowski', 'W.C. Fields', 'John Lennon', 'J.R.R. Tolkien', 'George Eliot', 'Ayn Rand', 'Friedrich Nietzsche', 'Marilyn Monroe', 'Garrison Keillor', 'Mark Twain', 'Mother Teresa', 'Martin Luther King Jr.', 'Khaled Hosseini', 'Alexandre Dumas fils', 'Allen Saunders', 'Suzanne Collins', 'Steve Martin', 'Terry Pratchett', 'George Carlin', 'E.E. Cummings', 'Charles M. Schulz', 'George Bernard Shaw', 'Dr. Seuss', 'Eleanor Roosevelt', 'Ernest Hemingway', 'Ralph Waldo Emerson', \"Madeleine L'Engle\", 'J.M. Barrie', 'George R.R. Martin', 'Jorge Luis Borges', 'James Baldwin', 'Jane Austen'}\n"
     ]
    }
   ],
   "source": [
    "print(setOfAuthor)"
   ]
  },
  {
   "cell_type": "code",
   "execution_count": null,
   "metadata": {},
   "outputs": [],
   "source": [
    "soup"
   ]
  },
  {
   "cell_type": "markdown",
   "metadata": {},
   "source": [
    "**TASK: Create a list of all the quotes on the first page.**"
   ]
  },
  {
   "cell_type": "code",
   "execution_count": null,
   "metadata": {},
   "outputs": [],
   "source": [
    "\".tag-item\""
   ]
  },
  {
   "cell_type": "code",
   "execution_count": null,
   "metadata": {},
   "outputs": [],
   "source": [
    "quotes"
   ]
  },
  {
   "cell_type": "markdown",
   "metadata": {},
   "source": [
    "**TASK: Inspect the site and use Beautiful Soup to extract the top ten tags from the requests text shown on the top right from the home page (e.g Love,Inspirational,Life, etc...). HINT: Keep in mind there are also tags underneath each quote, try to find a class only present in the top right tags, perhaps check the span.**"
   ]
  },
  {
   "cell_type": "code",
   "execution_count": null,
   "metadata": {},
   "outputs": [],
   "source": [
    "# CODE HERE"
   ]
  },
  {
   "cell_type": "code",
   "execution_count": null,
   "metadata": {},
   "outputs": [],
   "source": []
  },
  {
   "cell_type": "markdown",
   "metadata": {},
   "source": [
    "**TASK: Notice how there is more than one page, and subsequent pages look like this http://quotes.toscrape.com/page/2/. Use what you know about for loops and string concatenation to loop through all the pages and get all the unique authors on the website. Keep in mind there are many ways to achieve this, also note that you will need to somehow figure out how to check that your loop is on the last page with quotes. For debugging purposes, I will let you know that there are only 10 pages, so the last page is http://quotes.toscrape.com/page/10/, but try to create a loop that is robust enough that it wouldn't matter to know the amount of pages beforehand, perhaps use try/except for this, its up to you!**"
   ]
  },
  {
   "cell_type": "code",
   "execution_count": null,
   "metadata": {},
   "outputs": [],
   "source": [
    "# CODE HERE"
   ]
  },
  {
   "cell_type": "markdown",
   "metadata": {},
   "source": [
    "There are lots of other potential solutions that are even more robust and flexible, the main idea is the same though, use a while loop to cycle through potential pages and have a break condition based on the invalid page."
   ]
  }
 ],
 "metadata": {
  "kernelspec": {
   "display_name": "Python 3 (ipykernel)",
   "language": "python",
   "name": "python3"
  },
  "language_info": {
   "codemirror_mode": {
    "name": "ipython",
    "version": 3
   },
   "file_extension": ".py",
   "mimetype": "text/x-python",
   "name": "python",
   "nbconvert_exporter": "python",
   "pygments_lexer": "ipython3",
   "version": "3.9.7"
  }
 },
 "nbformat": 4,
 "nbformat_minor": 2
}
